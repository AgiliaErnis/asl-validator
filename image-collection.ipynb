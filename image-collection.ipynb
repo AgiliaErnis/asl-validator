{
 "cells": [
  {
   "cell_type": "code",
   "execution_count": 1,
   "id": "e87f8d5c",
   "metadata": {},
   "outputs": [],
   "source": [
    "import os #os, filepath, etc\n",
    "import time #for capturing images with breaks\n",
    "import cv2 #opencv\n",
    "import uuid #naming image files\n"
   ]
  },
  {
   "cell_type": "code",
   "execution_count": 2,
   "id": "7326eb1a",
   "metadata": {},
   "outputs": [],
   "source": [
    "IMAGE_PATH = 'Tensorflow/workspace/images/collectedimages'\n"
   ]
  },
  {
   "cell_type": "code",
   "execution_count": 3,
   "id": "7b0016de",
   "metadata": {},
   "outputs": [],
   "source": [
    "labels = ['A', 'B']\n",
    "number_of_images = 15"
   ]
  },
  {
   "cell_type": "code",
   "execution_count": 4,
   "id": "24d1c208",
   "metadata": {},
   "outputs": [
    {
     "name": "stdout",
     "output_type": "stream",
     "text": [
      "Collecting images for A\n",
      "Collecting images for B\n",
      "Collecting is completed\n"
     ]
    }
   ],
   "source": [
    "\n",
    "#collecting images and saving them in different directories\n",
    "for label in labels:\n",
    "    !mkdir {'Tensorflow/workspace/images/collectedimages' + label}\n",
    "    cap = cv2.VideoCapture(0)\n",
    "    print('Collecting images for {}'.format(label))\n",
    "    time.sleep(5)\n",
    "    for image_num in range(number_of_images):\n",
    "        ret, frame = cap.read()\n",
    "        image_name =  os.path.join(IMAGE_PATH, label, label + '.' + '.jpg'.format(str(uuid.uuid1())))\n",
    "        cv2.imwrite(image_name, frame)\n",
    "        cv2.imshow('frame', frame)\n",
    "        time.sleep(3)\n",
    "        \n",
    "        if cv2.waitKey(1) & 0xFF == ord('q'):\n",
    "            break\n",
    "    cap.release()\n",
    "    \n",
    "    \n",
    "print('Collecting is completed')\n",
    "cv2.destroyAllWindows()"
   ]
  }
 ],
 "metadata": {
  "kernelspec": {
   "display_name": "Python 3 (ipykernel)",
   "language": "python",
   "name": "python3"
  },
  "language_info": {
   "codemirror_mode": {
    "name": "ipython",
    "version": 3
   },
   "file_extension": ".py",
   "mimetype": "text/x-python",
   "name": "python",
   "nbconvert_exporter": "python",
   "pygments_lexer": "ipython3",
   "version": "3.9.7"
  }
 },
 "nbformat": 4,
 "nbformat_minor": 5
}
